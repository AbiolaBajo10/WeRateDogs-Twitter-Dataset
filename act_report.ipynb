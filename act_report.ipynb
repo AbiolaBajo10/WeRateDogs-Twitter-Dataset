{
 "cells": [
  {
   "cell_type": "markdown",
   "metadata": {},
   "source": [
    "## Report: act_report\n",
    "* Create a **250-word-minimum written report** called \"act_report.pdf\" or \"act_report.html\" that communicates the insights and displays the visualization(s) produced from your wrangled data. This is to be framed as an external document, like a blog post or magazine article, for example."
   ]
  },
  {
   "cell_type": "markdown",
   "metadata": {},
   "source": [
    "### INSIGHTS AND VISUALIZATIONS OF THE DATA WRANGLING PROJECT\n",
    "\n",
    "#### INSIGHTS\n",
    "\n"
   ]
  },
  {
   "cell_type": "markdown",
   "metadata": {},
   "source": [
    "The dataset for this project is the tweet archive of Twitter user @dog_rates, also known as WeRateDogs. WeRateDogs is a Twitter account that rates people's dogs with a humorous comment about the dog. To perform an analysis, the following datasets was needed:\n",
    "\n",
    "1. The WeRateDogs Twitter archive\n",
    "2. The tweet image predictions\n",
    "3. Additional data from the Twitter API(retweet_count, favorite_count)\n",
    "\n",
    "The datasets was read into separate dataframes, assessed, cleaned and merged.\n",
    "\n",
    "After wrangling and merging the three dataframes of the WeRateDogs Twitter archive to a master dataset, I stored the master dataset in a csv file and read it into a dataframe using pandas read_csv function.\n",
    "I used the pandas .describe() method to find the summary statistics of the columns in the master datframe. I also used .value_counts functions on the columns: 'image_number' and 'dog_stages' to find insights. Finally, I used the .groupby() function to find out which dog stage has the highest number of retweets and likes."
   ]
  },
  {
   "cell_type": "code",
   "execution_count": 1,
   "metadata": {},
   "outputs": [],
   "source": [
    "#import the pandas library\n",
    "import pandas as pd"
   ]
  },
  {
   "cell_type": "code",
   "execution_count": 2,
   "metadata": {},
   "outputs": [],
   "source": [
    "# Read the master dataset into a dataframe\n",
    "df = pd.read_csv(\"twitter_archive_master.csv\")"
   ]
  },
  {
   "cell_type": "code",
   "execution_count": 3,
   "metadata": {
    "scrolled": true
   },
   "outputs": [
    {
     "data": {
      "text/html": [
       "<div>\n",
       "<style scoped>\n",
       "    .dataframe tbody tr th:only-of-type {\n",
       "        vertical-align: middle;\n",
       "    }\n",
       "\n",
       "    .dataframe tbody tr th {\n",
       "        vertical-align: top;\n",
       "    }\n",
       "\n",
       "    .dataframe thead th {\n",
       "        text-align: right;\n",
       "    }\n",
       "</style>\n",
       "<table border=\"1\" class=\"dataframe\">\n",
       "  <thead>\n",
       "    <tr style=\"text-align: right;\">\n",
       "      <th></th>\n",
       "      <th>tweet_id</th>\n",
       "      <th>rating_numerator</th>\n",
       "      <th>rating_denominator</th>\n",
       "      <th>image_number</th>\n",
       "      <th>pred_1_conf</th>\n",
       "      <th>pred_2_conf</th>\n",
       "      <th>pred_3_conf</th>\n",
       "      <th>retweet_count</th>\n",
       "      <th>favorite_count</th>\n",
       "    </tr>\n",
       "  </thead>\n",
       "  <tbody>\n",
       "    <tr>\n",
       "      <th>count</th>\n",
       "      <td>1.984000e+03</td>\n",
       "      <td>1984.000000</td>\n",
       "      <td>1984.000000</td>\n",
       "      <td>1984.000000</td>\n",
       "      <td>1984.000000</td>\n",
       "      <td>1.984000e+03</td>\n",
       "      <td>1.984000e+03</td>\n",
       "      <td>1984.000000</td>\n",
       "      <td>1984.000000</td>\n",
       "    </tr>\n",
       "    <tr>\n",
       "      <th>mean</th>\n",
       "      <td>7.356111e+17</td>\n",
       "      <td>12.281754</td>\n",
       "      <td>10.540323</td>\n",
       "      <td>1.203629</td>\n",
       "      <td>0.593179</td>\n",
       "      <td>1.345706e-01</td>\n",
       "      <td>6.038487e-02</td>\n",
       "      <td>2245.259073</td>\n",
       "      <td>7715.442036</td>\n",
       "    </tr>\n",
       "    <tr>\n",
       "      <th>std</th>\n",
       "      <td>6.740163e+16</td>\n",
       "      <td>41.600540</td>\n",
       "      <td>7.336133</td>\n",
       "      <td>0.561738</td>\n",
       "      <td>0.271962</td>\n",
       "      <td>1.006083e-01</td>\n",
       "      <td>5.093326e-02</td>\n",
       "      <td>4020.989231</td>\n",
       "      <td>11379.577939</td>\n",
       "    </tr>\n",
       "    <tr>\n",
       "      <th>min</th>\n",
       "      <td>6.660209e+17</td>\n",
       "      <td>0.000000</td>\n",
       "      <td>10.000000</td>\n",
       "      <td>1.000000</td>\n",
       "      <td>0.044333</td>\n",
       "      <td>1.011300e-08</td>\n",
       "      <td>1.740170e-10</td>\n",
       "      <td>11.000000</td>\n",
       "      <td>66.000000</td>\n",
       "    </tr>\n",
       "    <tr>\n",
       "      <th>25%</th>\n",
       "      <td>6.758223e+17</td>\n",
       "      <td>10.000000</td>\n",
       "      <td>10.000000</td>\n",
       "      <td>1.000000</td>\n",
       "      <td>0.362063</td>\n",
       "      <td>5.411538e-02</td>\n",
       "      <td>1.623400e-02</td>\n",
       "      <td>495.750000</td>\n",
       "      <td>1644.250000</td>\n",
       "    </tr>\n",
       "    <tr>\n",
       "      <th>50%</th>\n",
       "      <td>7.082494e+17</td>\n",
       "      <td>11.000000</td>\n",
       "      <td>10.000000</td>\n",
       "      <td>1.000000</td>\n",
       "      <td>0.587222</td>\n",
       "      <td>1.175870e-01</td>\n",
       "      <td>4.959335e-02</td>\n",
       "      <td>1080.000000</td>\n",
       "      <td>3465.000000</td>\n",
       "    </tr>\n",
       "    <tr>\n",
       "      <th>75%</th>\n",
       "      <td>7.873413e+17</td>\n",
       "      <td>12.000000</td>\n",
       "      <td>10.000000</td>\n",
       "      <td>1.000000</td>\n",
       "      <td>0.843827</td>\n",
       "      <td>1.952647e-01</td>\n",
       "      <td>9.174633e-02</td>\n",
       "      <td>2562.750000</td>\n",
       "      <td>9558.500000</td>\n",
       "    </tr>\n",
       "    <tr>\n",
       "      <th>max</th>\n",
       "      <td>8.924206e+17</td>\n",
       "      <td>1776.000000</td>\n",
       "      <td>170.000000</td>\n",
       "      <td>4.000000</td>\n",
       "      <td>1.000000</td>\n",
       "      <td>4.880140e-01</td>\n",
       "      <td>2.734190e-01</td>\n",
       "      <td>70741.000000</td>\n",
       "      <td>144891.000000</td>\n",
       "    </tr>\n",
       "  </tbody>\n",
       "</table>\n",
       "</div>"
      ],
      "text/plain": [
       "           tweet_id  rating_numerator  rating_denominator  image_number  \\\n",
       "count  1.984000e+03       1984.000000         1984.000000   1984.000000   \n",
       "mean   7.356111e+17         12.281754           10.540323      1.203629   \n",
       "std    6.740163e+16         41.600540            7.336133      0.561738   \n",
       "min    6.660209e+17          0.000000           10.000000      1.000000   \n",
       "25%    6.758223e+17         10.000000           10.000000      1.000000   \n",
       "50%    7.082494e+17         11.000000           10.000000      1.000000   \n",
       "75%    7.873413e+17         12.000000           10.000000      1.000000   \n",
       "max    8.924206e+17       1776.000000          170.000000      4.000000   \n",
       "\n",
       "       pred_1_conf   pred_2_conf   pred_3_conf  retweet_count  favorite_count  \n",
       "count  1984.000000  1.984000e+03  1.984000e+03    1984.000000     1984.000000  \n",
       "mean      0.593179  1.345706e-01  6.038487e-02    2245.259073     7715.442036  \n",
       "std       0.271962  1.006083e-01  5.093326e-02    4020.989231    11379.577939  \n",
       "min       0.044333  1.011300e-08  1.740170e-10      11.000000       66.000000  \n",
       "25%       0.362063  5.411538e-02  1.623400e-02     495.750000     1644.250000  \n",
       "50%       0.587222  1.175870e-01  4.959335e-02    1080.000000     3465.000000  \n",
       "75%       0.843827  1.952647e-01  9.174633e-02    2562.750000     9558.500000  \n",
       "max       1.000000  4.880140e-01  2.734190e-01   70741.000000   144891.000000  "
      ]
     },
     "execution_count": 3,
     "metadata": {},
     "output_type": "execute_result"
    }
   ],
   "source": [
    "# Summary Statistics on the master dataframe\n",
    "df.describe()"
   ]
  },
  {
   "cell_type": "code",
   "execution_count": 4,
   "metadata": {},
   "outputs": [
    {
     "data": {
      "text/plain": [
       "1    1702\n",
       "2     190\n",
       "3      62\n",
       "4      30\n",
       "Name: image_number, dtype: int64"
      ]
     },
     "execution_count": 4,
     "metadata": {},
     "output_type": "execute_result"
    }
   ],
   "source": [
    "# Counts on the image_number column \n",
    "df['image_number'].value_counts(sort = True)"
   ]
  },
  {
   "cell_type": "code",
   "execution_count": 5,
   "metadata": {},
   "outputs": [
    {
     "data": {
      "text/plain": [
       "pupper           203\n",
       "doggo             62\n",
       "puppo             22\n",
       "doggo,pupper       9\n",
       "floofer            7\n",
       "doggo,puppo        1\n",
       "doggo,floofer      1\n",
       "Name: dog_stage, dtype: int64"
      ]
     },
     "execution_count": 5,
     "metadata": {},
     "output_type": "execute_result"
    }
   ],
   "source": [
    "# Counts on the dog_stage column\n",
    "df['dog_stage'].value_counts(sort = True)"
   ]
  },
  {
   "cell_type": "code",
   "execution_count": 6,
   "metadata": {},
   "outputs": [
    {
     "data": {
      "text/plain": [
       "dog_stage\n",
       "doggo,puppo      16140.000000\n",
       "doggo             5973.838710\n",
       "puppo             5326.181818\n",
       "floofer           3986.428571\n",
       "doggo,pupper      3456.555556\n",
       "doggo,floofer     2795.000000\n",
       "pupper            1909.812808\n",
       "Name: retweet_count, dtype: float64"
      ]
     },
     "execution_count": 6,
     "metadata": {},
     "output_type": "execute_result"
    }
   ],
   "source": [
    "# Mean retweet_count of the dog_stage\n",
    "df.groupby('dog_stage')['retweet_count'].mean().sort_values(ascending = False)"
   ]
  },
  {
   "cell_type": "code",
   "execution_count": 7,
   "metadata": {},
   "outputs": [
    {
     "data": {
      "text/plain": [
       "dog_stage\n",
       "doggo,puppo      41896.000000\n",
       "puppo            19573.727273\n",
       "doggo            17602.838710\n",
       "doggo,floofer    14845.000000\n",
       "doggo,pupper     12038.111111\n",
       "floofer          11225.571429\n",
       "pupper            6205.423645\n",
       "Name: favorite_count, dtype: float64"
      ]
     },
     "execution_count": 7,
     "metadata": {},
     "output_type": "execute_result"
    }
   ],
   "source": [
    "# Mean favorite_count of the dog_stage\n",
    "df.groupby('dog_stage')['favorite_count'].mean().sort_values(ascending = False)"
   ]
  },
  {
   "cell_type": "markdown",
   "metadata": {},
   "source": [
    "Some of the insights found from the analysis are:\n",
    "1. The minimum and maximum number for the retweet_count(the number of retweets for a tweet) is 11 and 70742 respectively.\n",
    "2. The minimum and maximum number for the favorite_count(the number of retweets for a tweet) is 66 and 144891 respectively.\n",
    "3. Most dogs are pupper.\n",
    "4. Dogs with multiple stages(doggo, puppo) have the highest mean retweet_count and favorite_count."
   ]
  },
  {
   "cell_type": "markdown",
   "metadata": {},
   "source": [
    "#### VISUALIZATIONS\n",
    "\n",
    "The visualization below displays the dog stages with the highest average retweets and the image number that has the highest confident predictions of dog breed."
   ]
  },
  {
   "cell_type": "code",
   "execution_count": 8,
   "metadata": {},
   "outputs": [],
   "source": [
    "#import the neccesary libraries\n",
    "import matplotlib.pyplot as plt\n",
    "import seaborn as sns\n",
    "%matplotlib inline"
   ]
  },
  {
   "cell_type": "code",
   "execution_count": 9,
   "metadata": {},
   "outputs": [],
   "source": [
    "# The average retweet grouped by dog stages\n",
    "retweet_average_by_dog_stages = df.groupby('dog_stage')['retweet_count'].mean().sort_values(ascending = False)"
   ]
  },
  {
   "cell_type": "code",
   "execution_count": 10,
   "metadata": {},
   "outputs": [
    {
     "data": {
      "image/png": "[encoded data removed]",
      "text/plain": [
       "<Figure size 504x360 with 1 Axes>"
      ]
     },
     "metadata": {
      "needs_background": "light"
     },
     "output_type": "display_data"
    }
   ],
   "source": [
    "# Bar chart of the average retweet grouped by dog stages\n",
    "retweet_average_by_dog_stages.plot(kind = 'bar', figsize = [7,5])\n",
    "plt.xlabel('Dog Stages')\n",
    "plt.ylabel('Average Retweet')\n",
    "plt.title('Average Retweet by Dog Stages');"
   ]
  },
  {
   "cell_type": "code",
   "execution_count": 11,
   "metadata": {},
   "outputs": [
    {
     "data": {
      "image/png": "[encoded data removed]",
      "text/plain": [
       "<Figure size 432x288 with 1 Axes>"
      ]
     },
     "metadata": {
      "needs_background": "light"
     },
     "output_type": "display_data"
    }
   ],
   "source": [
    "# The image number that has the highest confident predictions\n",
    "sns.countplot( x = 'image_number', data = df)\n",
    "plt.title('Number of Confident Predictions of Dog Breeds');"
   ]
  },
  {
   "cell_type": "markdown",
   "metadata": {},
   "source": [
    "The visualizations above show that:\n",
    "\n",
    "1.The (doggo, puppo) have the highest average retweets.\n",
    "\n",
    "2.This plot shows that the highest number of confident predictions of dog breeds is image 1.\n"
   ]
  }
 ],
 "metadata": {
  "kernelspec": {
   "display_name": "Python 3 (ipykernel)",
   "language": "python",
   "name": "python3"
  },
  "language_info": {
   "codemirror_mode": {
    "name": "ipython",
    "version": 3
   },
   "file_extension": ".py",
   "mimetype": "text/x-python",
   "name": "python",
   "nbconvert_exporter": "python",
   "pygments_lexer": "ipython3",
   "version": "3.9.12"
  }
 },
 "nbformat": 4,
 "nbformat_minor": 2
}
